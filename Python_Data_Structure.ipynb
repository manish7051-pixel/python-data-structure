{
  "nbformat": 4,
  "nbformat_minor": 0,
  "metadata": {
    "colab": {
      "provenance": []
    },
    "kernelspec": {
      "name": "python3",
      "display_name": "Python 3"
    },
    "language_info": {
      "name": "python"
    }
  },
  "cells": [
    {
      "cell_type": "markdown",
      "source": [
        "## **Data Types and Structures Questions**"
      ],
      "metadata": {
        "id": "58DjHEylATnx"
      }
    },
    {
      "cell_type": "markdown",
      "source": [
        "1.What are data structures, and why are they important?\n",
        "  -  Data structures are ways to organize and store data in a computer so that it can be accessed and modified efficiently. They are important because they enable efficient data management, retrieval, and manipulation, which are essential for solving complex problems.\n",
        "\n",
        "\n",
        "\n",
        "2.Explain the difference between mutable and immutable data types with examples.\n",
        "\n",
        "-   Mutable data types can be changed after creation (e.g., lists, dictionaries), while immutable data types cannot be changed (e.g., tuples, strings).\n",
        " Example:\n",
        "mutable_list = [1, 2, 3]\n",
        "mutable_list[0] = 10  This is allowed\n",
        "immutable_tuple = (1, 2, 3)\n",
        " immutable_tuple[0] = 10 This will raise an error\n"
      ],
      "metadata": {
        "id": "USE8B-o5Bhqn"
      }
    },
    {
      "cell_type": "markdown",
      "source": [
        "3.What are the main differences between lists and tuples in Python?\n",
        "\n",
        "-  Lists are mutable (can be modified), while tuples are immutable (cannot be modified). Lists use square brackets [], and tuples use parentheses ().\n",
        " Example:\n",
        "list_example = [1, 2, 3]\n",
        "tuple_example = (1, 2, 3)\n",
        "\n"
      ],
      "metadata": {
        "id": "Buau4AICClff"
      }
    },
    {
      "cell_type": "markdown",
      "source": [
        "4.Describe how dictionaries store data.\n",
        "\n",
        " -   Dictionaries store data as key-value pairs. Each key is unique and maps to a value, allowing for fast data retrieval based on the key.\n",
        " Example:\n",
        "my_dict = {'name': 'Alice', 'age': 25}\n"
      ],
      "metadata": {
        "id": "T3FEAGK-C0Kl"
      }
    },
    {
      "cell_type": "markdown",
      "source": [
        "5.Why might you use a set instead of a list in Python?\n",
        "\n",
        " - Sets are used when you need to store unique elements and perform operations like union, intersection, and difference. They are faster for checking membership compared to lists.\n",
        "Example:\n",
        "my_set = {1, 2, 3, 4}"
      ],
      "metadata": {
        "id": "6SimHBwzC4kg"
      }
    },
    {
      "cell_type": "markdown",
      "source": [
        "6.What is a string in Python, and how is it different from a list?\n",
        "\n",
        " -   A string is a sequence of characters, while a list is a sequence of elements that can be of any type. Strings are immutable, while lists are mutable.\n",
        "Example:\n",
        "my_string = \"Hello\"\n",
        "my_list = ['H', 'e', 'l', 'l', 'o']"
      ],
      "metadata": {
        "id": "wBr_0oVUCa_k"
      }
    },
    {
      "cell_type": "markdown",
      "source": [
        "7.How do tuples ensure data integrity in Python?\n",
        "\n",
        " -   Tuples ensure data integrity because they are immutable. Once a tuple is created, its elements cannot be changed, which prevents accidental modifications.\n",
        " Example:\n",
        "my_tuple = (1, 2, 3)\n",
        " my_tuple[0] = 10  # This will raise an error"
      ],
      "metadata": {
        "id": "Si_OO1a-89tP"
      }
    },
    {
      "cell_type": "markdown",
      "source": [
        "8.What is a hash table, and how does it relate to dictionaries in Python?\n",
        "\n",
        " -   A hash table is a data structure that maps keys to values using a hash function. Dictionaries in Python are implemented using hash tables, which allows for fast data retrieval.\n",
        " Example:\n",
        "my_dict = {'name': 'Alice', 'age': 25}"
      ],
      "metadata": {
        "id": "lENduFKO9Rhh"
      }
    },
    {
      "cell_type": "markdown",
      "source": [
        "9.Can lists contain different data types in Python?\n",
        "\n",
        " -   Yes, lists can contain elements of different data types.\n",
        " Example:\n",
        "mixed_list = [1, \"hello\", 3.14, True]"
      ],
      "metadata": {
        "id": "igv-WnI69b-x"
      }
    },
    {
      "cell_type": "markdown",
      "source": [
        "10.Explain why strings are immutable in Python.\n",
        "\n",
        " -   Strings are immutable to ensure that once a string is created, it cannot be changed. This allows for optimizations in memory and performance, and makes strings hashable for use as dictionary keys.\n",
        "Example:\n",
        "my_string = \"Hello\"\n",
        " my_string[0] = 'h'  # This will raise an error"
      ],
      "metadata": {
        "id": "kUXlD10w9q3x"
      }
    },
    {
      "cell_type": "markdown",
      "source": [
        "11.What advantages do dictionaries offer over lists for certain tasks?\n",
        "\n",
        " -   Dictionaries offer faster data retrieval based on keys, and they are more efficient for tasks that involve looking up values by unique identifiers.\n",
        " Example:\n",
        "my_dict = {'name': 'Alice', 'age': 25}\n",
        "print(my_dict['name'])   Fast access to value using key"
      ],
      "metadata": {
        "id": "VCDUrg8l906W"
      }
    },
    {
      "cell_type": "markdown",
      "source": [
        "12.Describe a scenario where using a tuple would be preferable over a list.\n",
        "\n",
        " -   Tuples are preferable when you want to ensure that the data cannot be changed, such as storing coordinates or configuration settings.\n",
        "Example:\n",
        "coordinates = (10, 20)"
      ],
      "metadata": {
        "id": "SgAxbsp69_OK"
      }
    },
    {
      "cell_type": "markdown",
      "source": [
        "13.How do sets handle duplicate values in Python?\n",
        "\n",
        " -  Sets automatically remove duplicate values, ensuring that all elements are unique.\n",
        " Example:\n",
        "my_set = {1, 2, 2, 3}\n",
        "print(my_set)   Output: {1, 2, 3}"
      ],
      "metadata": {
        "id": "4lF_YCF5-Iag"
      }
    },
    {
      "cell_type": "markdown",
      "source": [
        "14.How does the “in” keyword work differently for lists and dictionaries?\n",
        "\n",
        " -   For lists, the \"in\" keyword checks if a value exists in the list. For dictionaries, it checks if a key exists.\n",
        " Example:\n",
        "my_list = [1, 2, 3]\n",
        "print(2 in my_list)  # True\n",
        "my_dict = {'name': 'Alice', 'age': 25}\n",
        "print('name' in my_dict)   True"
      ],
      "metadata": {
        "id": "bcp-45k6-VcM"
      }
    },
    {
      "cell_type": "markdown",
      "source": [
        "15.Can you modify the elements of a tuple? Explain why or why not.\n",
        "\n",
        " -  No, you cannot modify the elements of a tuple because tuples are immutable.\n",
        " Example:\n",
        "my_tuple = (1, 2, 3)\n",
        " my_tuple[0] = 10   This will raise an error"
      ],
      "metadata": {
        "id": "e-JA7Tiq-fad"
      }
    },
    {
      "cell_type": "markdown",
      "source": [
        "16.What is a nested dictionary, and give an example of its use case.\n",
        "\n",
        " -   A nested dictionary is a dictionary that contains other dictionaries. It is useful for representing hierarchical data.\n",
        " Example:\n",
        "nested_dict = {'person': {'name': 'Alice', 'age': 25}}"
      ],
      "metadata": {
        "id": "C4fMTIOH-pUd"
      }
    },
    {
      "cell_type": "markdown",
      "source": [
        "17.Describe the time complexity of accessing elements in a dictionary.\n",
        "\n",
        " -   Accessing elements in a dictionary has an average time complexity of O(1) because dictionaries use hash tables for fast lookups.\n",
        "Example:\n",
        "my_dict = {'name': 'Alice', 'age': 25}\n",
        "print(my_dict['name'])   O(1) time complexity"
      ],
      "metadata": {
        "id": "bCaAoDsN-4NF"
      }
    },
    {
      "cell_type": "markdown",
      "source": [
        "18.In what situations are lists preferred over dictionaries?\n",
        "\n",
        " -   Lists are preferred when you need to maintain an ordered collection of elements and when you don't need fast lookups by key.\n",
        "Example:\n",
        "my_list = [1, 2, 3, 4]"
      ],
      "metadata": {
        "id": "tRuSZ4AP_FjU"
      }
    },
    {
      "cell_type": "markdown",
      "source": [
        "19.Why are dictionaries considered unordered, and how does that affect data retrieval?\n",
        "\n",
        " -   Dictionaries are considered unordered because the order of elements is not guaranteed. However, data retrieval is still fast due to hash tables.\n",
        " Example:\n",
        "my_dict = {'name': 'Alice', 'age': 25}\n",
        "print(my_dict['name'])   Fast retrieval, but order is not guaranteed"
      ],
      "metadata": {
        "id": "Uy99gfip_QTK"
      }
    },
    {
      "cell_type": "markdown",
      "source": [
        "20\n",
        "Explain the difference between a list and a dictionary in terms of data retrieval.\n",
        "\n",
        " -   Lists retrieve data by index, which has a time complexity of O(1) for access, but searching for an element is O(n). Dictionaries retrieve data by key, which has an average time complexity of O(1).\n",
        " Example:\n",
        "my_list = [1, 2, 3]\n",
        "print(my_list[0])  # O(1) access by index\n",
        "my_dict = {'name': 'Alice', 'age': 25}\n",
        "print(my_dict['name'])   O(1) access by key"
      ],
      "metadata": {
        "id": "Rx9acx3s_W5q"
      }
    },
    {
      "cell_type": "markdown",
      "source": [
        "# **Practical questions solutions**"
      ],
      "metadata": {
        "id": "Us0GDMst_mEY"
      }
    },
    {
      "cell_type": "code",
      "source": [
        "#1.Write a code to create a string with your name and print it.\n",
        "\n",
        "name = \"Manish\"\n",
        "print(name)\n"
      ],
      "metadata": {
        "colab": {
          "base_uri": "https://localhost:8080/"
        },
        "id": "WkRcw5YF_z6G",
        "outputId": "c3ada1e4-315f-45cd-8c74-b99f912daec9"
      },
      "execution_count": 1,
      "outputs": [
        {
          "output_type": "stream",
          "name": "stdout",
          "text": [
            "Manish\n"
          ]
        }
      ]
    },
    {
      "cell_type": "code",
      "source": [
        "#2.Write a code to find the length of the string \"Hello World\".\n",
        "\n",
        "string = \"Hello World\"\n",
        "print(len(string))"
      ],
      "metadata": {
        "colab": {
          "base_uri": "https://localhost:8080/"
        },
        "id": "B4sP8lF7AEU4",
        "outputId": "e9520986-e55c-43fe-f1a6-e19735e1ec97"
      },
      "execution_count": 2,
      "outputs": [
        {
          "output_type": "stream",
          "name": "stdout",
          "text": [
            "11\n"
          ]
        }
      ]
    },
    {
      "cell_type": "code",
      "source": [
        "#3.Write a code to slice the first 3 characters from the string \"Python Programming\".\n",
        "\n",
        "string = \"Python Programming\"\n",
        "print(string[:3])"
      ],
      "metadata": {
        "colab": {
          "base_uri": "https://localhost:8080/"
        },
        "id": "sQ1LJkz8AOOp",
        "outputId": "3d46788c-5b14-4dc4-ff5a-c765ce8b2eef"
      },
      "execution_count": 7,
      "outputs": [
        {
          "output_type": "stream",
          "name": "stdout",
          "text": [
            "Pyt\n"
          ]
        }
      ]
    },
    {
      "cell_type": "code",
      "source": [
        "#4.Write a code to convert the string \"hello\" to uppercase.\n",
        "\n",
        "my_string = \"hello\"\n",
        "print(my_string.upper())"
      ],
      "metadata": {
        "colab": {
          "base_uri": "https://localhost:8080/"
        },
        "id": "j0MBTGM4AVHY",
        "outputId": "5114388e-469a-4a17-bcaa-fafb3016e82a"
      },
      "execution_count": 5,
      "outputs": [
        {
          "output_type": "stream",
          "name": "stdout",
          "text": [
            "HELLO\n"
          ]
        }
      ]
    },
    {
      "cell_type": "code",
      "source": [
        "#5.Write a code to replace the word \"apple\" with \"orange\" in the string \"I like apple\".\n",
        "\n",
        "my_string = \"I like apple\"\n",
        "print(my_string.replace(\"apple\", \"orange\"))"
      ],
      "metadata": {
        "colab": {
          "base_uri": "https://localhost:8080/"
        },
        "id": "GVumVq9wA_Cz",
        "outputId": "347bb062-f6d0-42ab-8131-7f419c8ad082"
      },
      "execution_count": 8,
      "outputs": [
        {
          "output_type": "stream",
          "name": "stdout",
          "text": [
            "I like orange\n"
          ]
        }
      ]
    },
    {
      "cell_type": "code",
      "source": [
        "#6.Write a code to create a list with numbers 1 to 5 and print it.\n",
        "\n",
        "my_list = [1, 2, 3, 4, 5]\n",
        "print(my_list)"
      ],
      "metadata": {
        "colab": {
          "base_uri": "https://localhost:8080/"
        },
        "id": "OUK2M2bbB9qJ",
        "outputId": "252a9c33-1b3e-457a-db26-91acd1f074f6"
      },
      "execution_count": 9,
      "outputs": [
        {
          "output_type": "stream",
          "name": "stdout",
          "text": [
            "[1, 2, 3, 4, 5]\n"
          ]
        }
      ]
    },
    {
      "cell_type": "code",
      "source": [
        "#7.Write a code to append the number 10 to the list [1, 2, 3, 4].\n",
        "\n",
        "my_list = [1, 2, 3, 4]\n",
        "my_list.append(10)\n",
        "print(my_list)"
      ],
      "metadata": {
        "colab": {
          "base_uri": "https://localhost:8080/"
        },
        "id": "JN7ZUWMNCLLN",
        "outputId": "1667f326-a977-453a-bf83-c736ad16b155"
      },
      "execution_count": 10,
      "outputs": [
        {
          "output_type": "stream",
          "name": "stdout",
          "text": [
            "[1, 2, 3, 4, 10]\n"
          ]
        }
      ]
    },
    {
      "cell_type": "code",
      "source": [
        "#8.Write a code to remove the number 3 from the list [1, 2, 3, 4, 5].\n",
        "\n",
        "my_list = [1, 2, 3, 4, 5]\n",
        "my_list.remove(3)\n",
        "print(my_list)"
      ],
      "metadata": {
        "colab": {
          "base_uri": "https://localhost:8080/"
        },
        "id": "WP2HkRwCCLHz",
        "outputId": "e344e4ac-524f-4937-f351-6ff8ffd4e373"
      },
      "execution_count": 11,
      "outputs": [
        {
          "output_type": "stream",
          "name": "stdout",
          "text": [
            "[1, 2, 4, 5]\n"
          ]
        }
      ]
    },
    {
      "cell_type": "code",
      "source": [
        "#9.Write a code to access the second element in the list ['a', 'b', 'c', 'd'].\n",
        "\n",
        "my_list = ['a', 'b', 'c', 'd']\n",
        "print(my_list[1])"
      ],
      "metadata": {
        "colab": {
          "base_uri": "https://localhost:8080/"
        },
        "id": "gKSXfRyaCK5x",
        "outputId": "501fd531-5e51-4965-d098-6d95418f15df"
      },
      "execution_count": 12,
      "outputs": [
        {
          "output_type": "stream",
          "name": "stdout",
          "text": [
            "b\n"
          ]
        }
      ]
    },
    {
      "cell_type": "code",
      "source": [
        "#10.Write a code to reverse the list [10, 20, 30, 40, 50].\n",
        "\n",
        "my_list = [10, 20, 30, 40, 50]\n",
        "my_list.reverse()\n",
        "print(my_list)"
      ],
      "metadata": {
        "colab": {
          "base_uri": "https://localhost:8080/"
        },
        "id": "TjrkqjCMChZC",
        "outputId": "4434da37-691e-442b-8739-9d2191c5429e"
      },
      "execution_count": 13,
      "outputs": [
        {
          "output_type": "stream",
          "name": "stdout",
          "text": [
            "[50, 40, 30, 20, 10]\n"
          ]
        }
      ]
    },
    {
      "cell_type": "code",
      "source": [
        "#11.Write a code to create a tuple with the elements 100, 200, 300 and print it.\n",
        "\n",
        "my_tuple = (100, 200, 300)\n",
        "print(my_tuple)"
      ],
      "metadata": {
        "colab": {
          "base_uri": "https://localhost:8080/"
        },
        "id": "uU7N1Q_NCoV0",
        "outputId": "2ba0e826-019d-4f3c-a886-dbc4666565ac"
      },
      "execution_count": 14,
      "outputs": [
        {
          "output_type": "stream",
          "name": "stdout",
          "text": [
            "(100, 200, 300)\n"
          ]
        }
      ]
    },
    {
      "cell_type": "code",
      "source": [
        "#12.Write a code to access the second-to-last element of the tuple (‘red’, ‘green’, ‘blue’, ‘yellow’).\n",
        "my_tuple = ('red', 'green', 'blue', 'yellow')\n",
        "print(my_tuple[-2])\n"
      ],
      "metadata": {
        "colab": {
          "base_uri": "https://localhost:8080/"
        },
        "id": "8KYr9EHFCymh",
        "outputId": "3e5e9cb9-3429-4c1c-9eeb-6a4d76278ef4"
      },
      "execution_count": 15,
      "outputs": [
        {
          "output_type": "stream",
          "name": "stdout",
          "text": [
            "blue\n"
          ]
        }
      ]
    },
    {
      "cell_type": "code",
      "source": [
        "#13.Write a code to find the minimum number in the tuple (10, 20, 5, 15).\n",
        "\n",
        "my_tuple = (10, 20, 5, 15)\n",
        "print(min(my_tuple))\n"
      ],
      "metadata": {
        "colab": {
          "base_uri": "https://localhost:8080/"
        },
        "id": "HC3l011lC9UP",
        "outputId": "1ea921b8-e25a-4b28-d2c9-476e41145ee1"
      },
      "execution_count": 16,
      "outputs": [
        {
          "output_type": "stream",
          "name": "stdout",
          "text": [
            "5\n"
          ]
        }
      ]
    },
    {
      "cell_type": "code",
      "source": [
        "#14.Write a code to find the index of the element “cat” in the tuple (‘dog’, ‘cat’, ‘rabbit’).\n",
        "\n",
        "my_tuple = ('dog', 'cat', 'rabbit')\n",
        "print(my_tuple.index('cat'))"
      ],
      "metadata": {
        "colab": {
          "base_uri": "https://localhost:8080/"
        },
        "id": "11jCMfcEDEz1",
        "outputId": "2b6feced-25e2-4b4b-c1a1-17ffa7d1a53d"
      },
      "execution_count": 17,
      "outputs": [
        {
          "output_type": "stream",
          "name": "stdout",
          "text": [
            "1\n"
          ]
        }
      ]
    },
    {
      "cell_type": "code",
      "source": [
        "#15.Write a code to create a tuple containing three different fruits and check if “kiwi” is in it.\n",
        "\n",
        "fruits = ('apple', 'banana', 'orange')\n",
        "print('kiwi' in fruits)"
      ],
      "metadata": {
        "colab": {
          "base_uri": "https://localhost:8080/"
        },
        "id": "5f7zlnSkDMzA",
        "outputId": "476bad45-7d14-475c-a8e9-6db9108a365a"
      },
      "execution_count": 18,
      "outputs": [
        {
          "output_type": "stream",
          "name": "stdout",
          "text": [
            "False\n"
          ]
        }
      ]
    },
    {
      "cell_type": "code",
      "source": [
        "#16.Write a code to create a set with the elements ‘a’, ‘b’, ‘c’ and print it.\n",
        "\n",
        "my_set = {'a', 'b', 'c'}\n",
        "print(my_set)"
      ],
      "metadata": {
        "colab": {
          "base_uri": "https://localhost:8080/"
        },
        "id": "-rMH-onSDUwS",
        "outputId": "5125e681-6c49-4809-bd2d-a51d4126ec5e"
      },
      "execution_count": 19,
      "outputs": [
        {
          "output_type": "stream",
          "name": "stdout",
          "text": [
            "{'c', 'b', 'a'}\n"
          ]
        }
      ]
    },
    {
      "cell_type": "code",
      "source": [
        "#17.Write a code to clear all elements from the set {1, 2, 3, 4, 5}.\n",
        "\n",
        "my_set = {1, 2, 3, 4, 5}\n",
        "my_set.clear()\n",
        "print(my_set)"
      ],
      "metadata": {
        "colab": {
          "base_uri": "https://localhost:8080/"
        },
        "id": "uw3oSvxFDcbh",
        "outputId": "b0001626-4ff8-445e-b8a9-722bdd7d2526"
      },
      "execution_count": 20,
      "outputs": [
        {
          "output_type": "stream",
          "name": "stdout",
          "text": [
            "set()\n"
          ]
        }
      ]
    },
    {
      "cell_type": "code",
      "source": [
        "#18.Write a code to remove the element 4 from the set {1, 2, 3, 4}.\n",
        "\n",
        "my_set = {1, 2, 3, 4}\n",
        "my_set.remove(4)\n",
        "print(my_set)"
      ],
      "metadata": {
        "colab": {
          "base_uri": "https://localhost:8080/"
        },
        "id": "326Trm-tDjil",
        "outputId": "dc3a8cdf-6920-40c0-dedd-e3525706dd77"
      },
      "execution_count": 22,
      "outputs": [
        {
          "output_type": "stream",
          "name": "stdout",
          "text": [
            "{1, 2, 3}\n"
          ]
        }
      ]
    },
    {
      "cell_type": "code",
      "source": [
        "#19.Write a code to find the union of two sets {1, 2, 3} and {3, 4, 5}.\n",
        "\n",
        "set1 = {1, 2, 3}\n",
        "set2 = {3, 4, 5}\n",
        "print(set1.union(set2))"
      ],
      "metadata": {
        "colab": {
          "base_uri": "https://localhost:8080/"
        },
        "id": "gyYtlflLDsXw",
        "outputId": "858d143c-89ab-4359-ebde-56de0e0f8de6"
      },
      "execution_count": 23,
      "outputs": [
        {
          "output_type": "stream",
          "name": "stdout",
          "text": [
            "{1, 2, 3, 4, 5}\n"
          ]
        }
      ]
    },
    {
      "cell_type": "code",
      "source": [
        "#20.Write a code to find the intersection of two sets {1, 2, 3} and {2, 3, 4}.\n",
        "\n",
        "set1 = {1, 2, 3}\n",
        "set2 = {2, 3, 4}\n",
        "print(set1.intersection(set2))"
      ],
      "metadata": {
        "colab": {
          "base_uri": "https://localhost:8080/"
        },
        "id": "DMO8q1nOD0tB",
        "outputId": "8c395bfb-5946-482a-b127-5b137b040803"
      },
      "execution_count": 24,
      "outputs": [
        {
          "output_type": "stream",
          "name": "stdout",
          "text": [
            "{2, 3}\n"
          ]
        }
      ]
    },
    {
      "cell_type": "code",
      "source": [
        "#21.Write a code to create a dictionary with the keys “name”, “age”, and “city”, and print it.\n",
        "\n",
        "my_dict = {'name': 'John', 'age': 25, 'city': 'New York'}\n",
        "print(my_dict)\n"
      ],
      "metadata": {
        "colab": {
          "base_uri": "https://localhost:8080/"
        },
        "id": "fPRhc9NJD8AP",
        "outputId": "c6ab451a-e409-4d34-fec4-d340fba0f1b6"
      },
      "execution_count": 25,
      "outputs": [
        {
          "output_type": "stream",
          "name": "stdout",
          "text": [
            "{'name': 'John', 'age': 25, 'city': 'New York'}\n"
          ]
        }
      ]
    },
    {
      "cell_type": "code",
      "source": [
        "#22.Write a code to add a new key-value pair “country”: “USA” to the dictionary {‘name’: ‘John’, ‘age’: ‘25’}.\n",
        "\n",
        "my_dict = {'name': 'John', 'age': '25'}\n",
        "my_dict['country'] = 'USA'\n",
        "print(my_dict)"
      ],
      "metadata": {
        "colab": {
          "base_uri": "https://localhost:8080/"
        },
        "id": "TaWWuHcOEC_1",
        "outputId": "3526086e-8254-48dd-b545-8b798b6c98fc"
      },
      "execution_count": 26,
      "outputs": [
        {
          "output_type": "stream",
          "name": "stdout",
          "text": [
            "{'name': 'John', 'age': '25', 'country': 'USA'}\n"
          ]
        }
      ]
    },
    {
      "cell_type": "code",
      "source": [
        "#23.Write a code to access the value associated with the key “name” in the dictionary {‘name’: ‘Alice’, ‘age’: ‘30’}.\n",
        "\n",
        "my_dict = {'name': 'Alice', 'age': '30'}\n",
        "print(my_dict['name'])\n",
        "#"
      ],
      "metadata": {
        "colab": {
          "base_uri": "https://localhost:8080/"
        },
        "id": "i45MXkQREJ-I",
        "outputId": "fb0295cc-7b93-4b92-e40d-c4211422d46c"
      },
      "execution_count": 27,
      "outputs": [
        {
          "output_type": "stream",
          "name": "stdout",
          "text": [
            "Alice\n"
          ]
        }
      ]
    },
    {
      "cell_type": "code",
      "source": [
        "#24.Write a code to remove the key “age” from the dictionary {‘name’: ‘Bob’, ‘age’: ‘22’, ‘city’: ‘New York’}.\n",
        "\n",
        "my_dict = {'name': 'Bob', 'age': '22', 'city': 'New York'}\n",
        "del my_dict['age']\n",
        "print(my_dict)"
      ],
      "metadata": {
        "colab": {
          "base_uri": "https://localhost:8080/"
        },
        "id": "0oeqNi0pERnk",
        "outputId": "50f723cf-8095-4c5b-db9c-e29de281b4b3"
      },
      "execution_count": 28,
      "outputs": [
        {
          "output_type": "stream",
          "name": "stdout",
          "text": [
            "{'name': 'Bob', 'city': 'New York'}\n"
          ]
        }
      ]
    },
    {
      "cell_type": "code",
      "source": [
        "#25.Write a code to check if the key “city” exists in the dictionary {‘name’: ‘Alice’, ‘city’: ‘Paris’}.\n",
        "\n",
        "my_dict = {'name': 'Alice', 'city': 'Paris'}\n",
        "print('city' in my_dict)\n",
        "#"
      ],
      "metadata": {
        "colab": {
          "base_uri": "https://localhost:8080/"
        },
        "id": "ixQmORB3EXjG",
        "outputId": "a42a27cc-fab6-45db-a7d4-57510b4684d5"
      },
      "execution_count": 29,
      "outputs": [
        {
          "output_type": "stream",
          "name": "stdout",
          "text": [
            "True\n"
          ]
        }
      ]
    },
    {
      "cell_type": "code",
      "source": [
        "#26.Write a code to create a list, a tuple, and a dictionary, and print them all.\n",
        "\n",
        "my_list = [1, 2, 3]\n",
        "my_tuple = (4, 5, 6)\n",
        "my_dict = {'name': 'John', 'age': 25}\n",
        "print(my_list)"
      ],
      "metadata": {
        "colab": {
          "base_uri": "https://localhost:8080/"
        },
        "id": "knOjPdLPEe1l",
        "outputId": "72782883-9566-4ef5-c8cf-f06a06d689ac"
      },
      "execution_count": 30,
      "outputs": [
        {
          "output_type": "stream",
          "name": "stdout",
          "text": [
            "[1, 2, 3]\n"
          ]
        }
      ]
    },
    {
      "cell_type": "code",
      "source": [
        "#27.Write a code to create a list of 5 random numbers between 1 and 100, sort it in ascending order, and print the result.\n",
        "\n",
        "import random\n",
        "random_numbers = [random.randint(1, 100) for _ in range(5)]\n",
        "random_numbers.sort()\n",
        "print(random_numbers)"
      ],
      "metadata": {
        "colab": {
          "base_uri": "https://localhost:8080/"
        },
        "id": "fQwxaNs1EiDW",
        "outputId": "fc617d78-4c7a-41fa-9d89-b7ddc190bc3b"
      },
      "execution_count": 31,
      "outputs": [
        {
          "output_type": "stream",
          "name": "stdout",
          "text": [
            "[13, 37, 58, 92, 93]\n"
          ]
        }
      ]
    },
    {
      "cell_type": "code",
      "source": [
        "#28.Write a code to create a list with strings and print the element at the third index.\n",
        "\n",
        "my_list = ['apple', 'banana', 'cherry', 'date']\n",
        "print(my_list[2])"
      ],
      "metadata": {
        "colab": {
          "base_uri": "https://localhost:8080/"
        },
        "id": "DeaYzeqaEpBJ",
        "outputId": "97dae628-574e-49e3-e611-5c945ad5963d"
      },
      "execution_count": 32,
      "outputs": [
        {
          "output_type": "stream",
          "name": "stdout",
          "text": [
            "cherry\n"
          ]
        }
      ]
    },
    {
      "cell_type": "code",
      "source": [
        "#29.Write a code to combine two dictionaries into one and print the result.\n",
        "\n",
        "dict1 = {'a': 1, 'b': 2}\n",
        "dict2 = {'c': 3, 'd': 4}\n",
        "combined_dict = {**dict1, **dict2}\n",
        "print(combined_dict)"
      ],
      "metadata": {
        "colab": {
          "base_uri": "https://localhost:8080/"
        },
        "id": "Jqj9GLj2EvRM",
        "outputId": "af6d2ea4-5268-4327-89a7-692d42dd7d97"
      },
      "execution_count": 33,
      "outputs": [
        {
          "output_type": "stream",
          "name": "stdout",
          "text": [
            "{'a': 1, 'b': 2, 'c': 3, 'd': 4}\n"
          ]
        }
      ]
    },
    {
      "cell_type": "code",
      "source": [
        "#30.Write a code to convert a list of strings into a set.\n",
        "\n",
        "my_list = ['apple', 'banana', 'cherry', 'apple']\n",
        "my_set = set(my_list)\n",
        "print(my_set)"
      ],
      "metadata": {
        "colab": {
          "base_uri": "https://localhost:8080/"
        },
        "id": "FtgAbFTwE2yl",
        "outputId": "b0f36401-650f-40fa-dd56-b514d54fef3c"
      },
      "execution_count": 34,
      "outputs": [
        {
          "output_type": "stream",
          "name": "stdout",
          "text": [
            "{'cherry', 'banana', 'apple'}\n"
          ]
        }
      ]
    }
  ]
}